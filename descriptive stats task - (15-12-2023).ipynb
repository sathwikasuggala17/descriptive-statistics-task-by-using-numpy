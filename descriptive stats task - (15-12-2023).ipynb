{
 "cells": [
  {
   "cell_type": "code",
   "execution_count": 1,
   "id": "5353756f",
   "metadata": {},
   "outputs": [],
   "source": [
    "import numpy as np\n",
    "import pandas as pd"
   ]
  },
  {
   "cell_type": "code",
   "execution_count": 2,
   "id": "308f94fe",
   "metadata": {},
   "outputs": [
    {
     "data": {
      "text/plain": [
       "array([[ 0., 25., 40.],\n",
       "       [ 1., 30., 35.],\n",
       "       [ 2., 28., 38.],\n",
       "       [ 3., 32., 41.],\n",
       "       [ 4., 26., 37.],\n",
       "       [ 5., 29., 36.],\n",
       "       [ 6., 27., 39.],\n",
       "       [ 7., 33., 42.],\n",
       "       [ 8., 31., 38.],\n",
       "       [ 9., 28., 37.],\n",
       "       [10., 30., 40.],\n",
       "       [11., 29., 36.]])"
      ]
     },
     "execution_count": 2,
     "metadata": {},
     "output_type": "execute_result"
    }
   ],
   "source": [
    "data = np.genfromtxt(r\"C:\\Users\\sathw\\Downloads\\Sample_data.csv\",delimiter=',',skip_header=1)\n",
    "data"
   ]
  },
  {
   "cell_type": "markdown",
   "id": "fc65945f",
   "metadata": {},
   "source": [
    "## measures of central tendency:\n",
    "#### 1) Calculate the mean sales for Product A and Product B. Compare the average monthly sales for the two products and discuss any observed trends."
   ]
  },
  {
   "cell_type": "code",
   "execution_count": 3,
   "id": "4b73744d",
   "metadata": {},
   "outputs": [
    {
     "name": "stdout",
     "output_type": "stream",
     "text": [
      "the Mean of monthly sales for Product A :  29.0\n",
      "the Mean of monthly sales for Product B :  38.25\n"
     ]
    }
   ],
   "source": [
    "Product_A = data[:,1]\n",
    "Product_B = data[:,2]\n",
    "\n",
    "a = np.mean(Product_A)\n",
    "b = np.mean(Product_B)\n",
    "\n",
    "print('the Mean of monthly sales for Product A : ', a) # also the observed trends\n",
    "print('the Mean of monthly sales for Product B : ', b) # also the observed trends"
   ]
  },
  {
   "cell_type": "markdown",
   "id": "d81780a9",
   "metadata": {},
   "source": [
    "#### comparision of mean monthly sales of two products & observations\n",
    "* the average monthly sales of product A is 29.0 and product B is 38.25\n",
    "* product A  sales is lower than product B\n",
    "* The sales of product B is higher \n",
    "> product B performs the better sales when compared to product A"
   ]
  },
  {
   "cell_type": "markdown",
   "id": "405add4e",
   "metadata": {},
   "source": [
    "#### 2) Find the median sales for each product and discuss how it reflects the central tendency of the sales distribution."
   ]
  },
  {
   "cell_type": "code",
   "execution_count": 4,
   "id": "c3f76e59",
   "metadata": {},
   "outputs": [
    {
     "name": "stdout",
     "output_type": "stream",
     "text": [
      "the Median sale of each Product A :  29.0\n",
      "the Median sale of each Product B :  38.0\n"
     ]
    }
   ],
   "source": [
    "Product_A = data[:,1]\n",
    "Product_B = data[:,2]\n",
    "\n",
    "a = np.median(Product_A)\n",
    "b = np.median(Product_B)\n",
    "\n",
    "print('the Median sale of each Product A : ', a)\n",
    "print('the Median sale of each Product B : ', b)"
   ]
  },
  {
   "cell_type": "markdown",
   "id": "27ecacc4",
   "metadata": {},
   "source": [
    "#### the way it reflects the central tendancy of the sales distribution\n",
    "the medians of a and b (29.0 for Product A and 38.0 for Product B) acts as strongly formed indicators of central tendency.so, the median values implies that Product B gain more sales when compared to Product A in the observed data."
   ]
  },
  {
   "cell_type": "markdown",
   "id": "b8d01bea",
   "metadata": {},
   "source": [
    "#### 3) Identify the mode of the sales data for both Product A and Product B. Discuss the significance of the mode in the context of these products."
   ]
  },
  {
   "cell_type": "code",
   "execution_count": 5,
   "id": "5bd5768a",
   "metadata": {},
   "outputs": [
    {
     "name": "stdout",
     "output_type": "stream",
     "text": [
      "Mode of Sales data for Product A :  30.0\n",
      "Mode of Sales data for Product B :  40.0\n"
     ]
    }
   ],
   "source": [
    "import statistics\n",
    "\n",
    "a = statistics.mode(Product_A)\n",
    "b = statistics.mode(Product_B)\n",
    "\n",
    "print('Mode of Sales data for Product A : ', a)\n",
    "print('Mode of Sales data for Product B : ', b)"
   ]
  },
  {
   "cell_type": "markdown",
   "id": "fbf94f46",
   "metadata": {},
   "source": [
    "#### significance of the mode for product A and product B\n",
    "* the significance for the Product A is having mode of 30 which denotes 30 is the most occurance of sales figure.\n",
    "* Similarly, the significance for the Product B is having mode of 40 that denotes 40 is the most common sales value."
   ]
  },
  {
   "cell_type": "markdown",
   "id": "e4edcb7a",
   "metadata": {},
   "source": [
    "#### 4) Calculate the weighted mean of the sales data, assuming each month has an equal weight. Discuss any implications of using weighted mean in this context."
   ]
  },
  {
   "cell_type": "code",
   "execution_count": 6,
   "id": "1bdb8740",
   "metadata": {},
   "outputs": [
    {
     "name": "stdout",
     "output_type": "stream",
     "text": [
      "Weighted mean of the sales data of Product A : 29.0\n",
      "Weighted mean of the sales data of Product B : 38.25\n"
     ]
    }
   ],
   "source": [
    "weight=np.ones(12)\n",
    "\n",
    "weighted_mean_A = weight * Product_A\n",
    "a = np.mean(weighted_mean_A)\n",
    "weighted_mean_B = weight * Product_B\n",
    "b = np.mean(weighted_mean_B)\n",
    "\n",
    "print('Weighted mean of the sales data of Product A :', a)\n",
    "print('Weighted mean of the sales data of Product B :', b)"
   ]
  },
  {
   "cell_type": "markdown",
   "id": "5be67994",
   "metadata": {},
   "source": [
    "####  implications of using weighted mean\n",
    "the calculated weighted mean for product A and product B, assuming an equal weight in each month."
   ]
  },
  {
   "cell_type": "markdown",
   "id": "716278d3",
   "metadata": {},
   "source": [
    "## Measures of Dispersion:\n",
    "#### 1) Compute the range of monthly sales for both Product A and Product B. Discuss how the range provides insights into the variability of sales."
   ]
  },
  {
   "cell_type": "code",
   "execution_count": 7,
   "id": "e5c77dd2",
   "metadata": {},
   "outputs": [
    {
     "name": "stdout",
     "output_type": "stream",
     "text": [
      "8.0\n",
      "7.0\n"
     ]
    }
   ],
   "source": [
    "range_product_A = data[:,1].max() - data[:,1].min()\n",
    "range_product_B = data[:,2].max() - data[:,2].min()\n",
    "\n",
    "print(range_product_A)\n",
    "print(range_product_B)"
   ]
  },
  {
   "cell_type": "markdown",
   "id": "1e86c2b8",
   "metadata": {},
   "source": [
    "#### the range provides insights into the variability of sales.\n",
    "* the range insights between the max and min values\n",
    "1) the max:33 min:25 range of product_A = max_value - min_value = 33 - 25 = 08\n",
    "2) the max:42 min:35 range of product_B = max_value - min_value = 42 - 35 = 07"
   ]
  },
  {
   "cell_type": "markdown",
   "id": "8e363c64",
   "metadata": {},
   "source": [
    "#### 2) Calculate the variance of the sales data for both products. Discuss what the variance reveals about the spread of sales for each product."
   ]
  },
  {
   "cell_type": "code",
   "execution_count": 11,
   "id": "ce7d1234",
   "metadata": {},
   "outputs": [
    {
     "name": "stdout",
     "output_type": "stream",
     "text": [
      "variance of the sales for Product A :  5.166666666666667\n",
      "variance of the sales for Product A :  4.354166666666667\n"
     ]
    }
   ],
   "source": [
    "variance_A = np.var(Product_A)\n",
    "variance_B = np.var(Product_B)\n",
    "\n",
    "print('variance of the sales for Product A : ', variance_A)\n",
    "print('variance of the sales for Product A : ', variance_B)"
   ]
  },
  {
   "cell_type": "markdown",
   "id": "117a8386",
   "metadata": {},
   "source": [
    "#### the variance reveals about the spread of sales for each product.¶\n",
    "* the variance function reveals the spread of sales figure for product A is more from the mean when compared to the Product B\n",
    "* the variance function of Product B, implies that its sales data points are closer to the mean. it has more consistent and stable sales performance when compared to Product A."
   ]
  },
  {
   "cell_type": "markdown",
   "id": "4d5b0549",
   "metadata": {},
   "source": [
    "#### 3) Determine the standard deviation of the sales for Product A and Product B. Discuss the significance of standard deviation in understanding the variability in sales."
   ]
  },
  {
   "cell_type": "code",
   "execution_count": 18,
   "id": "2f4944c1",
   "metadata": {},
   "outputs": [
    {
     "name": "stdout",
     "output_type": "stream",
     "text": [
      "standard variance of  sales for Product A :  2.273030282830976\n",
      "standard variance of  sales for Product B :  2.0866640042581523\n"
     ]
    }
   ],
   "source": [
    "standard_deviation_A = np.std(Product_A)\n",
    "standard_deviation_B = np.std(Product_B)\n",
    "\n",
    "print('standard variance of  sales for Product A : ', standard_deviation_A)\n",
    "print('standard variance of  sales for Product B : ', standard_deviation_B)"
   ]
  },
  {
   "cell_type": "markdown",
   "id": "193e8cc4",
   "metadata": {},
   "source": [
    "#### the significance of standard deviation in understanding the variability in sales.\n",
    "* The squareroot of variance is called standard deviation\n",
    "* The product A is having the higher standard deviation,  which has more consistent and more stable sales with less variability in sales\n",
    "* The product B is having the lower standard deviation, which has less consistent and less stable sales with more variability in sales"
   ]
  },
  {
   "cell_type": "markdown",
   "id": "200203e0",
   "metadata": {},
   "source": [
    "## Relative Measures of Dispersion:\n",
    "#### 1) Calculate the coefficient of variation for the sales data of Product A. Discuss how this relative measure of dispersion helps in comparing the variability of products with different average sales."
   ]
  },
  {
   "cell_type": "code",
   "execution_count": 32,
   "id": "c9dd61a6",
   "metadata": {},
   "outputs": [
    {
     "name": "stdout",
     "output_type": "stream",
     "text": [
      "coefficient variation of sales Product A :  7.838035458037848\n"
     ]
    }
   ],
   "source": [
    "coefficient_variance_product_A = (standard_deviation_A / np.mean(Product_A)) * 100\n",
    "print('coefficient variation of sales Product A : ', coefficient_variance_product_A)"
   ]
  },
  {
   "cell_type": "markdown",
   "id": "97886055",
   "metadata": {},
   "source": [
    "#### 2) Compute the relative range for Product B. Discuss how the relative range accounts for the scale of the sales data."
   ]
  },
  {
   "cell_type": "code",
   "execution_count": 30,
   "id": "f54e2538",
   "metadata": {},
   "outputs": [
    {
     "name": "stdout",
     "output_type": "stream",
     "text": [
      "Relative Range for sales Product B :  18.30065359477124\n"
     ]
    }
   ],
   "source": [
    "realtive_range_B = (range_product_B / np.mean(Product_B)) * 100\n",
    "print('Relative Range for sales Product B : ', realtive_range_B)"
   ]
  },
  {
   "cell_type": "markdown",
   "id": "ebbdf744",
   "metadata": {},
   "source": [
    "#### 3) Determine the relative standard deviation for Product A. Interpret the result and discuss its implications for understanding the variability relative to the mean."
   ]
  },
  {
   "cell_type": "code",
   "execution_count": 31,
   "id": "61000277",
   "metadata": {},
   "outputs": [
    {
     "name": "stdout",
     "output_type": "stream",
     "text": [
      "realtive standard devation for sales Product A :  7.838035458037848\n"
     ]
    }
   ],
   "source": [
    "realtive_standard_devation_A = (standard_deviation_A / np.mean(Product_A)) * 100\n",
    "print('realtive standard devation for sales Product A : ', realtive_standard_devation_A)"
   ]
  }
 ],
 "metadata": {
  "kernelspec": {
   "display_name": "Python 3 (ipykernel)",
   "language": "python",
   "name": "python3"
  },
  "language_info": {
   "codemirror_mode": {
    "name": "ipython",
    "version": 3
   },
   "file_extension": ".py",
   "mimetype": "text/x-python",
   "name": "python",
   "nbconvert_exporter": "python",
   "pygments_lexer": "ipython3",
   "version": "3.11.5"
  }
 },
 "nbformat": 4,
 "nbformat_minor": 5
}
